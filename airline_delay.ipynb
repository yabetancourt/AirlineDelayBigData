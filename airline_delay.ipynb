{
 "cells": [
  {
   "cell_type": "code",
   "execution_count": 1,
   "metadata": {},
   "outputs": [],
   "source": [
    "from pyspark.sql import SparkSession\n",
    "\n",
    "\n",
    "# Crear una instancia de SparkSession:\n",
    "spark = SparkSession\\\n",
    "        .builder\\\n",
    "        .master(\"local[*]\")\\\n",
    "        .appName(\"Delay\")\\\n",
    "        .getOrCreate()"
   ]
  },
  {
   "cell_type": "code",
   "execution_count": 2,
   "metadata": {},
   "outputs": [
    {
     "name": "stdout",
     "output_type": "stream",
     "text": [
      "+---+-------+------+-----------+---------+---------+----+------+-----+\n",
      "| id|Airline|Flight|AirportFrom|AirportTo|DayOfWeek|Time|Length|Delay|\n",
      "+---+-------+------+-----------+---------+---------+----+------+-----+\n",
      "|  1|     CO|   269|        SFO|      IAH|        3|  15|   205|    1|\n",
      "|  2|     US|  1558|        PHX|      CLT|        3|  15|   222|    1|\n",
      "|  3|     AA|  2400|        LAX|      DFW|        3|  20|   165|    1|\n",
      "|  4|     AA|  2466|        SFO|      DFW|        3|  20|   195|    1|\n",
      "|  5|     AS|   108|        ANC|      SEA|        3|  30|   202|    0|\n",
      "|  6|     CO|  1094|        LAX|      IAH|        3|  30|   181|    1|\n",
      "|  7|     DL|  1768|        LAX|      MSP|        3|  30|   220|    0|\n",
      "|  8|     DL|  2722|        PHX|      DTW|        3|  30|   228|    0|\n",
      "|  9|     DL|  2606|        SFO|      MSP|        3|  35|   216|    1|\n",
      "| 10|     AA|  2538|        LAS|      ORD|        3|  40|   200|    1|\n",
      "+---+-------+------+-----------+---------+---------+----+------+-----+\n",
      "only showing top 10 rows\n",
      "\n"
     ]
    }
   ],
   "source": [
    "ruta = r'C:\\Users\\MIS\\Desktop\\Estudio\\4\\RNA\\archive(1)\\Airlines.csv'\n",
    "\n",
    "df = spark.read.csv(ruta, header=True, inferSchema=True)\n",
    "\n",
    "df.show(10)"
   ]
  },
  {
   "cell_type": "code",
   "execution_count": 3,
   "metadata": {},
   "outputs": [
    {
     "name": "stdout",
     "output_type": "stream",
     "text": [
      "root\n",
      " |-- id: integer (nullable = true)\n",
      " |-- Airline: string (nullable = true)\n",
      " |-- Flight: integer (nullable = true)\n",
      " |-- AirportFrom: string (nullable = true)\n",
      " |-- AirportTo: string (nullable = true)\n",
      " |-- DayOfWeek: integer (nullable = true)\n",
      " |-- Time: integer (nullable = true)\n",
      " |-- Length: integer (nullable = true)\n",
      " |-- Delay: integer (nullable = true)\n",
      "\n"
     ]
    }
   ],
   "source": [
    "df.printSchema()"
   ]
  },
  {
   "cell_type": "code",
   "execution_count": 4,
   "metadata": {},
   "outputs": [
    {
     "name": "stdout",
     "output_type": "stream",
     "text": [
      "+-------+-----+\n",
      "|Airline|count|\n",
      "+-------+-----+\n",
      "|     HA| 5578|\n",
      "|     F9| 6456|\n",
      "|     AS|11471|\n",
      "|     OH|12630|\n",
      "|     YV|13725|\n",
      "|     B6|18112|\n",
      "|     9E|20686|\n",
      "|     FL|20827|\n",
      "|     CO|21118|\n",
      "|     UA|27619|\n",
      "|     EV|27983|\n",
      "|     XE|31126|\n",
      "|     US|34500|\n",
      "|     MQ|36605|\n",
      "|     AA|45656|\n",
      "|     OO|50254|\n",
      "|     DL|60940|\n",
      "|     WN|94097|\n",
      "+-------+-----+\n",
      "\n"
     ]
    }
   ],
   "source": [
    "df.groupBy('Airline').count().sort('count',ascending=True).show()"
   ]
  },
  {
   "cell_type": "code",
   "execution_count": 7,
   "metadata": {},
   "outputs": [
    {
     "name": "stdout",
     "output_type": "stream",
     "text": [
      "+-----+------+\n",
      "|Delay| count|\n",
      "+-----+------+\n",
      "|    0|299119|\n",
      "|    1|240264|\n",
      "+-----+------+\n",
      "\n"
     ]
    }
   ],
   "source": [
    "df.groupBy('Delay').count().sort('count',ascending=False).show()"
   ]
  },
  {
   "cell_type": "code",
   "execution_count": 9,
   "metadata": {},
   "outputs": [
    {
     "name": "stdout",
     "output_type": "stream",
     "text": [
      "+-------+------------------+------------------+\n",
      "|summary|            Length|              Time|\n",
      "+-------+------------------+------------------+\n",
      "|  count|            539383|            539383|\n",
      "|   mean|132.20200673732765| 802.7289625368245|\n",
      "| stddev| 70.11701559746582|278.04591081678984|\n",
      "|    min|                 0|                10|\n",
      "|    max|               655|              1439|\n",
      "+-------+------------------+------------------+\n",
      "\n"
     ]
    }
   ],
   "source": [
    "df.describe(\"Length\",\"Time\").show()"
   ]
  },
  {
   "cell_type": "code",
   "execution_count": 10,
   "metadata": {},
   "outputs": [
    {
     "name": "stdout",
     "output_type": "stream",
     "text": [
      "+-------------+-----+-----+----+----+-----+-----+-----+----+-----+----+-----+----+-----+-----+-----+-----+-----+-----+\n",
      "|Delay_Airline|   9E|   AA|  AS|  B6|   CO|   DL|   EV|  F9|   FL|  HA|   MQ|  OH|   OO|   UA|   US|   WN|   XE|   YV|\n",
      "+-------------+-----+-----+----+----+-----+-----+-----+----+-----+----+-----+----+-----+-----+-----+-----+-----+-----+\n",
      "|            0|12460|27920|7579|9653| 9161|33488|16728|3557|14552|3792|23863|9128|27494|18673|22909|28440|19331|10391|\n",
      "|            1| 8226|17736|3892|8459|11957|27452|11255|2899| 6275|1786|12742|3502|22760| 8946|11591|65657|11795| 3334|\n",
      "+-------------+-----+-----+----+----+-----+-----+-----+----+-----+----+-----+----+-----+-----+-----+-----+-----+-----+\n",
      "\n"
     ]
    }
   ],
   "source": [
    "df.crosstab('Delay', 'Airline').sort('Delay_airline').show()"
   ]
  },
  {
   "cell_type": "code",
   "execution_count": 12,
   "metadata": {},
   "outputs": [
    {
     "name": "stdout",
     "output_type": "stream",
     "text": [
      "+-----------------+---+---+----+---+---+---+---+---+---+---+---+---+---+---+---+---+-----+---+----+---+---+---+----+---+---+---+---+---+---+---+---+---+---+----+---+----+---+---+---+---+---+---+---+----+----+----+---+---+---+---+---+---+---+---+---+---+---+---+----+---+----+----+---+---+---+---+---+---+---+---+---+----+---+---+---+----+---+---+----+-----+-----+---+---+---+---+----+---+---+---+---+---+----+---+---+---+---+----+---+---+---+---+---+---+---+----+---+---+---+---+---+---+---+---+---+---+---+---+---+---+---+---+---+---+---+---+---+---+---+----+----+---+---+---+---+----+----+---+---+---+----+---+---+---+---+---+---+---+----+----+---+---+---+---+----+----+---+---+---+---+----+---+---+---+---+---+---+---+---+---+---+---+---+----+----+---+----+---+----+---+---+---+---+---+----+----+---+---+---+---+---+---+---+---+---+---+---+---+----+----+---+---+---+----+----+----+----+---+---+-----+---+---+---+---+----+----+---+----+----+---+---+---+----+---+---+---+---+---+---+---+---+---+---+---+----+----+---+---+---+---+---+---+----+---+----+----+---+---+---+---+---+---+---+----+----+---+---+---+---+----+---+----+----+----+---+----+---+---+---+----+---+---+---+---+---+---+---+---+----+---+----+----+---+---+---+---+---+---+---+---+---+---+---+---+\n",
      "|Delay_AirportFrom|ABE|ABI| ABQ|ABR|ABY|ACT|ACV|ACY|ADK|ADQ|AEX|AGS|ALB|AMA|ANC|ASE|  ATL|ATW| AUS|AVL|AVP|AZO| BDL|BET|BFL|BGM|BGR|BHM|BIL|BIS|BKG|BLI|BMI| BNA|BOI| BOS|BQK|BQN|BRO|BRW|BTM|BTR|BTV| BUF| BUR| BWI|BZN|CAE|CAK|CDC|CDV|CEC|CHA|CHO|CHS|CIC|CID|CLD| CLE|CLL| CLT| CMH|CMI|CMX|COD|COS|COU|CPR|CRP|CRW|CSG| CVG|CWA|CYS|DAB| DAL|DAY|DBQ| DCA|  DEN|  DFW|DHN|DLH|DRO|DSM| DTW|EAU|ECP|EGE|EKO|ELM| ELP|ERI|EUG|EVV|EWN| EWR|EYW|FAI|FAR|FAT|FAY|FCA|FLG| FLL|FLO|FNT|FSD|FSM|FWA|GCC|GEG|GFK|GGG|GJT|GNV|GPT|GRB|GRK|GRR|GSO|GSP|GTF|GTR|GUC|GUM|HDN|HLN| HNL| HOU|HPN|HRL|HSV|HTS| IAD| IAH|ICT|IDA|ILM| IND|IPL|ISP|ITH|ITO|IYK|JAC|JAN| JAX| JFK|JNU|KOA|KTN|LAN| LAS| LAX|LBB|LCH|LEX|LFT| LGA|LGB|LIH|LIT|LMT|LNK|LRD|LSE|LWB|LWS|LYH|MAF|MBS| MCI| MCO|MDT| MDW|MEI| MEM|MFE|MFR|MGM|MHK|MHT| MIA| MKE|MKG|MLB|MLI|MLU|MMH|MOB|MOD|MOT|MQT|MRY|MSN|MSO| MSP| MSY|MTJ|MYR|OAJ| OAK| OGG| OKC| OMA|OME|ONT|  ORD|ORF|OTH|OTZ|PAH| PBI| PDX|PHF| PHL| PHX|PIA|PIE|PIH| PIT|PLN|PNS|PSC|PSE|PSG|PSP|PVD|PWM|RAP|RDD|RDM| RDU| RIC|RKS|RNO|ROA|ROC|ROW|RST| RSW|SAF| SAN| SAT|SAV|SBA|SBN|SBP|SCC|SCE|SDF| SEA| SFO|SGF|SGU|SHV|SIT| SJC|SJT| SJU| SLC| SMF|SMX| SNA|SPI|SPS|SRQ| STL|STT|STX|SUN|SWF|SYR|TEX|TLH|TOL| TPA|TRI| TUL| TUS|TVC|TWF|TXK|TYR|TYS|UTM|VLD|VPS|WRG|XNA|YAK|YUM|\n",
      "+-----------------+---+---+----+---+---+---+---+---+---+---+---+---+---+---+---+---+-----+---+----+---+---+---+----+---+---+---+---+---+---+---+---+---+---+----+---+----+---+---+---+---+---+---+---+----+----+----+---+---+---+---+---+---+---+---+---+---+---+---+----+---+----+----+---+---+---+---+---+---+---+---+---+----+---+---+---+----+---+---+----+-----+-----+---+---+---+---+----+---+---+---+---+---+----+---+---+---+---+----+---+---+---+---+---+---+---+----+---+---+---+---+---+---+---+---+---+---+---+---+---+---+---+---+---+---+---+---+---+---+---+----+----+---+---+---+---+----+----+---+---+---+----+---+---+---+---+---+---+---+----+----+---+---+---+---+----+----+---+---+---+---+----+---+---+---+---+---+---+---+---+---+---+---+---+----+----+---+----+---+----+---+---+---+---+---+----+----+---+---+---+---+---+---+---+---+---+---+---+---+----+----+---+---+---+----+----+----+----+---+---+-----+---+---+---+---+----+----+---+----+----+---+---+---+----+---+---+---+---+---+---+---+---+---+---+---+----+----+---+---+---+---+---+---+----+---+----+----+---+---+---+---+---+---+---+----+----+---+---+---+---+----+---+----+----+----+---+----+---+---+---+----+---+---+---+---+---+---+---+---+----+---+----+----+---+---+---+---+---+---+---+---+---+---+---+---+\n",
      "|                0|232|179|1424|  1| 65| 43|139| 46|  4| 38|210|206|551|249|892|280|19848|267|2070|254|113|181|1287| 38|182| 41| 16|957|225|180| 47| 17|232|2068|587|5717| 65| 79|158| 31| 39|539|308|1013| 978|3655|262|440|461| 28| 44| 45|255| 66|692| 71|311| 97|2788| 21|6551|1444|123| 43| 58|661| 61|123|514|225|126|2884| 83| 24| 76|1090|846| 18|4830|10410|13345| 90|140|203|662|6836| 55|403|177| 60| 62|1024| 46|229|257| 57|4933| 78|206|302|595|234|117|193|3158|  7|243|325|134|300| 77|581|123| 23|351|121|358|353|186|641|569|490|104| 52| 63|  4|108| 93|3031|1471|473|271|615| 50|4010|8156|692|157|236|1854| 49|283| 39|442| 67|153|626|1826|5561|188|770|124|191|5244|8387|374| 75|459|345|5513|619|693|973| 52|141|168| 95| 46| 24| 40|378|221|2122|5998|361|1881| 42|4381|291|221|275| 80|639|3865|2236| 48| 95|232|119| 12|417| 88| 76| 80|304|511|183|5205|2030|111|218| 75|1086|1322|1168|1182| 46|952|12916|861| 34| 40| 39|1542|2302|270|4297|8713|153| 16| 62|1785| 22|581|139| 45| 35|644|934|355|264| 81|150|2488|1029| 86|741|200|728| 55|119|1883| 63|2968|1900|497|520|224|246| 41| 52|770|4669|5505|452|116|313| 64|1386| 11|1109|4941|1381| 86|1726|127| 34|376|2171|180| 25|136|120|486| 23|285| 14|3745|212|1055|1245|175| 60| 68| 44|819| 12| 67|423| 41|811| 48|244|\n",
      "|                1|110| 32|1375|  1| 22| 17|157| 16|  5| 18| 76|116|400|233|415|178|14601|111|1584|172| 86| 62| 993| 46| 94| 33| 16|799| 81|144| 13|  9|173|2285|621|3722| 22| 58| 49| 37| 21|199|215| 925|1169|4910| 97|243|298| 27| 13| 43|108| 21|315| 49|166| 66|1995| 10|4582|1213| 56| 19| 35|370| 28| 53|175|166| 53|1824| 58|  7| 59|2748|398|  9|2243| 9433| 8809| 28| 84| 88|388|6300| 34|177| 83| 56| 42| 794| 28|190| 93| 17|4740| 48|123|188|376|104| 44| 26|2649| 11|188|192| 28|149| 47|479| 83|  8|118| 73|144|188| 81|374|302|300| 43|  9| 32|  6| 50| 52|1423|2949|343|141|234|  7|2518|7665|286| 67| 81|1281| 13|348| 36|162| 19| 97|359| 912|3935|107|231| 54| 71|6674|8270|248| 15|343| 89|3034|507|243|599| 41| 69| 56| 40| 16| 33| 19|209| 89|2115|4598|168|5222| 16|2069| 88|140|113| 43|427|2851|1832| 18| 43|213| 53|  4|145| 56| 88| 26|147|289|100|4961|1370| 72| 62| 60|2697| 450| 738| 789| 44|992|11906|558| 59| 50| 23| 843|1972|185|3183|6844| 97|  7| 51|1480| 10|248|138| 17| 24|382|609|161|157| 39|122|1671| 527| 69|967|107|462| 32| 49| 834| 29|3402|1372|286|307|204|160| 15| 35|641|3369|6281|169| 76| 84| 25|1971|  4| 786|5532|2123| 34|1809| 47| 12|137|2860| 64| 21| 57| 61|431|  4|146| 13|2340|101| 609| 617|102| 61|  9| 16|386|  6| 20|210| 18|317|  9| 94|\n",
      "+-----------------+---+---+----+---+---+---+---+---+---+---+---+---+---+---+---+---+-----+---+----+---+---+---+----+---+---+---+---+---+---+---+---+---+---+----+---+----+---+---+---+---+---+---+---+----+----+----+---+---+---+---+---+---+---+---+---+---+---+---+----+---+----+----+---+---+---+---+---+---+---+---+---+----+---+---+---+----+---+---+----+-----+-----+---+---+---+---+----+---+---+---+---+---+----+---+---+---+---+----+---+---+---+---+---+---+---+----+---+---+---+---+---+---+---+---+---+---+---+---+---+---+---+---+---+---+---+---+---+---+---+----+----+---+---+---+---+----+----+---+---+---+----+---+---+---+---+---+---+---+----+----+---+---+---+---+----+----+---+---+---+---+----+---+---+---+---+---+---+---+---+---+---+---+---+----+----+---+----+---+----+---+---+---+---+---+----+----+---+---+---+---+---+---+---+---+---+---+---+---+----+----+---+---+---+----+----+----+----+---+---+-----+---+---+---+---+----+----+---+----+----+---+---+---+----+---+---+---+---+---+---+---+---+---+---+---+----+----+---+---+---+---+---+---+----+---+----+----+---+---+---+---+---+---+---+----+----+---+---+---+---+----+---+----+----+----+---+----+---+---+---+----+---+---+---+---+---+---+---+---+----+---+----+----+---+---+---+---+---+---+---+---+---+---+---+---+\n",
      "\n"
     ]
    }
   ],
   "source": [
    "df.crosstab('Delay', 'AirportFrom').sort('Delay_AirportFrom').show()"
   ]
  },
  {
   "cell_type": "code",
   "execution_count": 13,
   "metadata": {},
   "outputs": [
    {
     "data": {
      "text/plain": [
       "539383"
      ]
     },
     "execution_count": 13,
     "metadata": {},
     "output_type": "execute_result"
    }
   ],
   "source": [
    "df.count()"
   ]
  },
  {
   "cell_type": "code",
   "execution_count": 14,
   "metadata": {},
   "outputs": [
    {
     "data": {
      "text/plain": [
       "93"
      ]
     },
     "execution_count": 14,
     "metadata": {},
     "output_type": "execute_result"
    }
   ],
   "source": [
    "df.filter(df.Time<=15).count()"
   ]
  },
  {
   "cell_type": "code",
   "execution_count": 15,
   "metadata": {},
   "outputs": [
    {
     "data": {
      "text/plain": [
       "299119"
      ]
     },
     "execution_count": 15,
     "metadata": {},
     "output_type": "execute_result"
    }
   ],
   "source": [
    "df.filter(df.Delay==0).count()"
   ]
  },
  {
   "cell_type": "code",
   "execution_count": 16,
   "metadata": {},
   "outputs": [
    {
     "name": "stdout",
     "output_type": "stream",
     "text": [
      "+------+------------------+\n",
      "|Flight|         avg(Time)|\n",
      "+------+------------------+\n",
      "|  6466|476.28169014084506|\n",
      "|   463|  933.578947368421|\n",
      "|  1580| 744.0990099009902|\n",
      "|  6357|            781.94|\n",
      "|  6397| 819.0555555555555|\n",
      "|  3997| 540.6962025316456|\n",
      "|   496| 739.8803418803419|\n",
      "|  1591| 889.5211267605633|\n",
      "|  6658| 984.9672131147541|\n",
      "|  1829| 802.5547445255474|\n",
      "|   471| 823.9830508474577|\n",
      "|  1088|            732.61|\n",
      "|  2366| 618.1884057971015|\n",
      "|  2142| 806.9157894736842|\n",
      "|   833|        649.921875|\n",
      "|  2122| 671.1724137931035|\n",
      "|  1959| 757.8048780487804|\n",
      "|  5300|             505.0|\n",
      "|  4519| 530.8771929824561|\n",
      "|  1238| 820.5603448275862|\n",
      "+------+------------------+\n",
      "only showing top 20 rows\n",
      "\n"
     ]
    }
   ],
   "source": [
    "df.groupBy('Flight').agg({'Time':'mean'}).show()"
   ]
  },
  {
   "cell_type": "code",
   "execution_count": 25,
   "metadata": {},
   "outputs": [],
   "source": [
    "df_new = df.drop('id')"
   ]
  },
  {
   "cell_type": "code",
   "execution_count": 26,
   "metadata": {},
   "outputs": [
    {
     "name": "stdout",
     "output_type": "stream",
     "text": [
      "+-------+------+-----------+---------+---------+----+------+-----+-------------------+\n",
      "|Airline|Flight|AirportFrom|AirportTo|DayOfWeek|Time|Length|Delay|              Scale|\n",
      "+-------+------+-----------+---------+---------+----+------+-----+-------------------+\n",
      "|     CO|   269|        SFO|      IAH|        3|  15|   205|    1|0.31297709923664124|\n",
      "|     US|  1558|        PHX|      CLT|        3|  15|   222|    1|0.33893129770992364|\n",
      "|     AA|  2400|        LAX|      DFW|        3|  20|   165|    1|0.25190839694656486|\n",
      "|     AA|  2466|        SFO|      DFW|        3|  20|   195|    1|0.29770992366412213|\n",
      "|     AS|   108|        ANC|      SEA|        3|  30|   202|    0| 0.3083969465648855|\n",
      "|     CO|  1094|        LAX|      IAH|        3|  30|   181|    1|0.27633587786259545|\n",
      "|     DL|  1768|        LAX|      MSP|        3|  30|   220|    0|0.33587786259541985|\n",
      "|     DL|  2722|        PHX|      DTW|        3|  30|   228|    0| 0.3480916030534351|\n",
      "|     DL|  2606|        SFO|      MSP|        3|  35|   216|    1| 0.3297709923664122|\n",
      "|     AA|  2538|        LAS|      ORD|        3|  40|   200|    1| 0.3053435114503817|\n",
      "|     CO|   223|        ANC|      SEA|        3|  49|   201|    1| 0.3068702290076336|\n",
      "|     DL|  1646|        PHX|      ATL|        3|  50|   212|    1| 0.3236641221374046|\n",
      "|     DL|  2055|        SLC|      ATL|        3|  50|   210|    0|0.32061068702290074|\n",
      "|     AA|  2408|        LAX|      DFW|        3|  55|   170|    0| 0.2595419847328244|\n",
      "|     AS|   132|        ANC|      PDX|        3|  55|   215|    0| 0.3282442748091603|\n",
      "|     US|   498|        DEN|      CLT|        3|  55|   179|    0| 0.2732824427480916|\n",
      "|     B6|    98|        DEN|      JFK|        3|  59|   213|    0| 0.3251908396946565|\n",
      "|     CO|  1496|        LAS|      IAH|        3|  60|   162|    0|0.24732824427480915|\n",
      "|     DL|  1450|        LAS|      MSP|        3|  60|   181|    0|0.27633587786259545|\n",
      "|     CO|   507|        ONT|      IAH|        3|  75|   167|    0| 0.2549618320610687|\n",
      "+-------+------+-----------+---------+---------+----+------+-----+-------------------+\n",
      "only showing top 20 rows\n",
      "\n"
     ]
    }
   ],
   "source": [
    "df_new = df_new.withColumn('Length Scaled', df['Length'] / 655)\n",
    "df_new.show()"
   ]
  },
  {
   "cell_type": "code",
   "execution_count": 34,
   "metadata": {},
   "outputs": [
    {
     "name": "stdout",
     "output_type": "stream",
     "text": [
      "+-------+-----------------+\n",
      "|Airline|        avg(Time)|\n",
      "+-------+-----------------+\n",
      "|     FL|833.1544629567388|\n",
      "|     YV|832.2568306010929|\n",
      "|     B6|825.5022636925795|\n",
      "|     OO|811.2070083973415|\n",
      "|     F9|807.0885997521685|\n",
      "|     US| 805.075884057971|\n",
      "|     WN|802.3435922505499|\n",
      "|     AA|800.8028955668477|\n",
      "|     EV|799.8396526462495|\n",
      "|     DL|799.6361667213653|\n",
      "|     UA|797.7448857670445|\n",
      "|     AS|796.6563507976637|\n",
      "|     HA|795.2260666905701|\n",
      "|     OH|793.0209817893904|\n",
      "|     9E|792.1733056173257|\n",
      "|     XE|792.1371843474908|\n",
      "|     MQ|791.4752356235487|\n",
      "|     CO|790.3554787385169|\n",
      "+-------+-----------------+\n",
      "\n"
     ]
    }
   ],
   "source": [
    "df_new.groupBy('Airline').agg({'Time':'mean'}).sort(\"avg(Time)\", ascending=False).show()"
   ]
  },
  {
   "cell_type": "code",
   "execution_count": 42,
   "metadata": {},
   "outputs": [
    {
     "ename": "Py4JJavaError",
     "evalue": "An error occurred while calling o278.collectToPython.\n: org.apache.spark.SparkException: Job aborted due to stage failure: Task 0 in stage 84.0 failed 1 times, most recent failure: Lost task 0.0 in stage 84.0 (TID 145) (WIN11-5490LT executor driver): TaskResultLost (result lost from block manager)\nDriver stacktrace:\r\n\tat org.apache.spark.scheduler.DAGScheduler.failJobAndIndependentStages(DAGScheduler.scala:2856)\r\n\tat org.apache.spark.scheduler.DAGScheduler.$anonfun$abortStage$2(DAGScheduler.scala:2792)\r\n\tat org.apache.spark.scheduler.DAGScheduler.$anonfun$abortStage$2$adapted(DAGScheduler.scala:2791)\r\n\tat org.apache.spark.scheduler.DAGScheduler$$Lambda$4321/137142533.apply(Unknown Source)\r\n\tat scala.collection.mutable.ResizableArray.foreach(ResizableArray.scala:62)\r\n\tat scala.collection.mutable.ResizableArray.foreach$(ResizableArray.scala:55)\r\n\tat scala.collection.mutable.ArrayBuffer.foreach(ArrayBuffer.scala:49)\r\n\tat org.apache.spark.scheduler.DAGScheduler.abortStage(DAGScheduler.scala:2791)\r\n\tat org.apache.spark.scheduler.DAGScheduler.$anonfun$handleTaskSetFailed$1(DAGScheduler.scala:1247)\r\n\tat org.apache.spark.scheduler.DAGScheduler.$anonfun$handleTaskSetFailed$1$adapted(DAGScheduler.scala:1247)\r\n\tat org.apache.spark.scheduler.DAGScheduler$$Lambda$4319/222932192.apply(Unknown Source)\r\n\tat scala.Option.foreach(Option.scala:407)\r\n\tat org.apache.spark.scheduler.DAGScheduler.handleTaskSetFailed(DAGScheduler.scala:1247)\r\n\tat org.apache.spark.scheduler.DAGSchedulerEventProcessLoop.doOnReceive(DAGScheduler.scala:3060)\r\n\tat org.apache.spark.scheduler.DAGSchedulerEventProcessLoop.onReceive(DAGScheduler.scala:2994)\r\n\tat org.apache.spark.scheduler.DAGSchedulerEventProcessLoop.onReceive(DAGScheduler.scala:2983)\r\n\tat org.apache.spark.util.EventLoop$$anon$1.run(EventLoop.scala:49)\r\n\tat org.apache.spark.scheduler.DAGScheduler.runJob(DAGScheduler.scala:989)\r\n\tat org.apache.spark.SparkContext.runJob(SparkContext.scala:2398)\r\n\tat org.apache.spark.SparkContext.runJob(SparkContext.scala:2419)\r\n\tat org.apache.spark.SparkContext.runJob(SparkContext.scala:2438)\r\n\tat org.apache.spark.SparkContext.runJob(SparkContext.scala:2463)\r\n\tat org.apache.spark.rdd.RDD.$anonfun$collect$1(RDD.scala:1049)\r\n\tat org.apache.spark.rdd.RDD$$Lambda$4033/208182276.apply(Unknown Source)\r\n\tat org.apache.spark.rdd.RDDOperationScope$.withScope(RDDOperationScope.scala:151)\r\n\tat org.apache.spark.rdd.RDDOperationScope$.withScope(RDDOperationScope.scala:112)\r\n\tat org.apache.spark.rdd.RDD.withScope(RDD.scala:410)\r\n\tat org.apache.spark.rdd.RDD.collect(RDD.scala:1048)\r\n\tat org.apache.spark.sql.execution.SparkPlan.executeCollect(SparkPlan.scala:448)\r\n\tat org.apache.spark.sql.Dataset.$anonfun$collectToPython$1(Dataset.scala:4148)\r\n\tat org.apache.spark.sql.Dataset$$Lambda$4276/732982198.apply(Unknown Source)\r\n\tat org.apache.spark.sql.Dataset.$anonfun$withAction$2(Dataset.scala:4322)\r\n\tat org.apache.spark.sql.Dataset$$Lambda$2035/1073890613.apply(Unknown Source)\r\n\tat org.apache.spark.sql.execution.QueryExecution$.withInternalError(QueryExecution.scala:546)\r\n\tat org.apache.spark.sql.Dataset.$anonfun$withAction$1(Dataset.scala:4320)\r\n\tat org.apache.spark.sql.Dataset$$Lambda$1686/1522981736.apply(Unknown Source)\r\n\tat org.apache.spark.sql.execution.SQLExecution$.$anonfun$withNewExecutionId$6(SQLExecution.scala:125)\r\n\tat org.apache.spark.sql.execution.SQLExecution$$$Lambda$1697/2121357279.apply(Unknown Source)\r\n\tat org.apache.spark.sql.execution.SQLExecution$.withSQLConfPropagated(SQLExecution.scala:201)\r\n\tat org.apache.spark.sql.execution.SQLExecution$.$anonfun$withNewExecutionId$1(SQLExecution.scala:108)\r\n\tat org.apache.spark.sql.execution.SQLExecution$$$Lambda$1687/880892462.apply(Unknown Source)\r\n\tat org.apache.spark.sql.SparkSession.withActive(SparkSession.scala:900)\r\n\tat org.apache.spark.sql.execution.SQLExecution$.withNewExecutionId(SQLExecution.scala:66)\r\n\tat org.apache.spark.sql.Dataset.withAction(Dataset.scala:4320)\r\n\tat org.apache.spark.sql.Dataset.collectToPython(Dataset.scala:4145)\r\n\tat sun.reflect.NativeMethodAccessorImpl.invoke0(Native Method)\r\n\tat sun.reflect.NativeMethodAccessorImpl.invoke(NativeMethodAccessorImpl.java:62)\r\n\tat sun.reflect.DelegatingMethodAccessorImpl.invoke(DelegatingMethodAccessorImpl.java:43)\r\n\tat java.lang.reflect.Method.invoke(Method.java:497)\r\n\tat py4j.reflection.MethodInvoker.invoke(MethodInvoker.java:244)\r\n\tat py4j.reflection.ReflectionEngine.invoke(ReflectionEngine.java:374)\r\n\tat py4j.Gateway.invoke(Gateway.java:282)\r\n\tat py4j.commands.AbstractCommand.invokeMethod(AbstractCommand.java:132)\r\n\tat py4j.commands.CallCommand.execute(CallCommand.java:79)\r\n\tat py4j.ClientServerConnection.waitForCommands(ClientServerConnection.java:182)\r\n\tat py4j.ClientServerConnection.run(ClientServerConnection.java:106)\r\n\tat java.lang.Thread.run(Thread.java:745)\r\n",
     "output_type": "error",
     "traceback": [
      "\u001b[1;31m---------------------------------------------------------------------------\u001b[0m",
      "\u001b[1;31mPy4JJavaError\u001b[0m                             Traceback (most recent call last)",
      "Cell \u001b[1;32mIn[42], line 5\u001b[0m\n\u001b[0;32m      2\u001b[0m \u001b[38;5;28;01mimport\u001b[39;00m \u001b[38;5;21;01mpandas\u001b[39;00m \u001b[38;5;28;01mas\u001b[39;00m \u001b[38;5;21;01mpd\u001b[39;00m\n\u001b[0;32m      4\u001b[0m sample_df \u001b[38;5;241m=\u001b[39m df_new\u001b[38;5;241m.\u001b[39msample(withReplacement\u001b[38;5;241m=\u001b[39m\u001b[38;5;28;01mFalse\u001b[39;00m, fraction\u001b[38;5;241m=\u001b[39m\u001b[38;5;241m0.5\u001b[39m, seed\u001b[38;5;241m=\u001b[39m\u001b[38;5;241m42\u001b[39m)\n\u001b[1;32m----> 5\u001b[0m pandas_df \u001b[38;5;241m=\u001b[39m \u001b[43msample_df\u001b[49m\u001b[38;5;241;43m.\u001b[39;49m\u001b[43mtoPandas\u001b[49m\u001b[43m(\u001b[49m\u001b[43m)\u001b[49m\n",
      "File \u001b[1;32mc:\\Users\\MIS\\.conda\\envs\\pyspark\\lib\\site-packages\\pyspark\\sql\\pandas\\conversion.py:202\u001b[0m, in \u001b[0;36mPandasConversionMixin.toPandas\u001b[1;34m(self)\u001b[0m\n\u001b[0;32m    199\u001b[0m             \u001b[38;5;28;01mraise\u001b[39;00m\n\u001b[0;32m    201\u001b[0m \u001b[38;5;66;03m# Below is toPandas without Arrow optimization.\u001b[39;00m\n\u001b[1;32m--> 202\u001b[0m rows \u001b[38;5;241m=\u001b[39m \u001b[38;5;28;43mself\u001b[39;49m\u001b[38;5;241;43m.\u001b[39;49m\u001b[43mcollect\u001b[49m\u001b[43m(\u001b[49m\u001b[43m)\u001b[49m\n\u001b[0;32m    203\u001b[0m \u001b[38;5;28;01mif\u001b[39;00m \u001b[38;5;28mlen\u001b[39m(rows) \u001b[38;5;241m>\u001b[39m \u001b[38;5;241m0\u001b[39m:\n\u001b[0;32m    204\u001b[0m     pdf \u001b[38;5;241m=\u001b[39m pd\u001b[38;5;241m.\u001b[39mDataFrame\u001b[38;5;241m.\u001b[39mfrom_records(\n\u001b[0;32m    205\u001b[0m         rows, index\u001b[38;5;241m=\u001b[39m\u001b[38;5;28mrange\u001b[39m(\u001b[38;5;28mlen\u001b[39m(rows)), columns\u001b[38;5;241m=\u001b[39m\u001b[38;5;28mself\u001b[39m\u001b[38;5;241m.\u001b[39mcolumns  \u001b[38;5;66;03m# type: ignore[arg-type]\u001b[39;00m\n\u001b[0;32m    206\u001b[0m     )\n",
      "File \u001b[1;32mc:\\Users\\MIS\\.conda\\envs\\pyspark\\lib\\site-packages\\pyspark\\sql\\dataframe.py:1261\u001b[0m, in \u001b[0;36mDataFrame.collect\u001b[1;34m(self)\u001b[0m\n\u001b[0;32m   1241\u001b[0m \u001b[38;5;250m\u001b[39m\u001b[38;5;124;03m\"\"\"Returns all the records as a list of :class:`Row`.\u001b[39;00m\n\u001b[0;32m   1242\u001b[0m \n\u001b[0;32m   1243\u001b[0m \u001b[38;5;124;03m.. versionadded:: 1.3.0\u001b[39;00m\n\u001b[1;32m   (...)\u001b[0m\n\u001b[0;32m   1258\u001b[0m \u001b[38;5;124;03m[Row(age=14, name='Tom'), Row(age=23, name='Alice'), Row(age=16, name='Bob')]\u001b[39;00m\n\u001b[0;32m   1259\u001b[0m \u001b[38;5;124;03m\"\"\"\u001b[39;00m\n\u001b[0;32m   1260\u001b[0m \u001b[38;5;28;01mwith\u001b[39;00m SCCallSiteSync(\u001b[38;5;28mself\u001b[39m\u001b[38;5;241m.\u001b[39m_sc):\n\u001b[1;32m-> 1261\u001b[0m     sock_info \u001b[38;5;241m=\u001b[39m \u001b[38;5;28;43mself\u001b[39;49m\u001b[38;5;241;43m.\u001b[39;49m\u001b[43m_jdf\u001b[49m\u001b[38;5;241;43m.\u001b[39;49m\u001b[43mcollectToPython\u001b[49m\u001b[43m(\u001b[49m\u001b[43m)\u001b[49m\n\u001b[0;32m   1262\u001b[0m \u001b[38;5;28;01mreturn\u001b[39;00m \u001b[38;5;28mlist\u001b[39m(_load_from_socket(sock_info, BatchedSerializer(CPickleSerializer())))\n",
      "File \u001b[1;32mc:\\Users\\MIS\\.conda\\envs\\pyspark\\lib\\site-packages\\py4j\\java_gateway.py:1322\u001b[0m, in \u001b[0;36mJavaMember.__call__\u001b[1;34m(self, *args)\u001b[0m\n\u001b[0;32m   1316\u001b[0m command \u001b[38;5;241m=\u001b[39m proto\u001b[38;5;241m.\u001b[39mCALL_COMMAND_NAME \u001b[38;5;241m+\u001b[39m\\\n\u001b[0;32m   1317\u001b[0m     \u001b[38;5;28mself\u001b[39m\u001b[38;5;241m.\u001b[39mcommand_header \u001b[38;5;241m+\u001b[39m\\\n\u001b[0;32m   1318\u001b[0m     args_command \u001b[38;5;241m+\u001b[39m\\\n\u001b[0;32m   1319\u001b[0m     proto\u001b[38;5;241m.\u001b[39mEND_COMMAND_PART\n\u001b[0;32m   1321\u001b[0m answer \u001b[38;5;241m=\u001b[39m \u001b[38;5;28mself\u001b[39m\u001b[38;5;241m.\u001b[39mgateway_client\u001b[38;5;241m.\u001b[39msend_command(command)\n\u001b[1;32m-> 1322\u001b[0m return_value \u001b[38;5;241m=\u001b[39m \u001b[43mget_return_value\u001b[49m\u001b[43m(\u001b[49m\n\u001b[0;32m   1323\u001b[0m \u001b[43m    \u001b[49m\u001b[43manswer\u001b[49m\u001b[43m,\u001b[49m\u001b[43m \u001b[49m\u001b[38;5;28;43mself\u001b[39;49m\u001b[38;5;241;43m.\u001b[39;49m\u001b[43mgateway_client\u001b[49m\u001b[43m,\u001b[49m\u001b[43m \u001b[49m\u001b[38;5;28;43mself\u001b[39;49m\u001b[38;5;241;43m.\u001b[39;49m\u001b[43mtarget_id\u001b[49m\u001b[43m,\u001b[49m\u001b[43m \u001b[49m\u001b[38;5;28;43mself\u001b[39;49m\u001b[38;5;241;43m.\u001b[39;49m\u001b[43mname\u001b[49m\u001b[43m)\u001b[49m\n\u001b[0;32m   1325\u001b[0m \u001b[38;5;28;01mfor\u001b[39;00m temp_arg \u001b[38;5;129;01min\u001b[39;00m temp_args:\n\u001b[0;32m   1326\u001b[0m     \u001b[38;5;28;01mif\u001b[39;00m \u001b[38;5;28mhasattr\u001b[39m(temp_arg, \u001b[38;5;124m\"\u001b[39m\u001b[38;5;124m_detach\u001b[39m\u001b[38;5;124m\"\u001b[39m):\n",
      "File \u001b[1;32mc:\\Users\\MIS\\.conda\\envs\\pyspark\\lib\\site-packages\\pyspark\\errors\\exceptions\\captured.py:179\u001b[0m, in \u001b[0;36mcapture_sql_exception.<locals>.deco\u001b[1;34m(*a, **kw)\u001b[0m\n\u001b[0;32m    177\u001b[0m \u001b[38;5;28;01mdef\u001b[39;00m \u001b[38;5;21mdeco\u001b[39m(\u001b[38;5;241m*\u001b[39ma: Any, \u001b[38;5;241m*\u001b[39m\u001b[38;5;241m*\u001b[39mkw: Any) \u001b[38;5;241m-\u001b[39m\u001b[38;5;241m>\u001b[39m Any:\n\u001b[0;32m    178\u001b[0m     \u001b[38;5;28;01mtry\u001b[39;00m:\n\u001b[1;32m--> 179\u001b[0m         \u001b[38;5;28;01mreturn\u001b[39;00m f(\u001b[38;5;241m*\u001b[39ma, \u001b[38;5;241m*\u001b[39m\u001b[38;5;241m*\u001b[39mkw)\n\u001b[0;32m    180\u001b[0m     \u001b[38;5;28;01mexcept\u001b[39;00m Py4JJavaError \u001b[38;5;28;01mas\u001b[39;00m e:\n\u001b[0;32m    181\u001b[0m         converted \u001b[38;5;241m=\u001b[39m convert_exception(e\u001b[38;5;241m.\u001b[39mjava_exception)\n",
      "File \u001b[1;32mc:\\Users\\MIS\\.conda\\envs\\pyspark\\lib\\site-packages\\py4j\\protocol.py:326\u001b[0m, in \u001b[0;36mget_return_value\u001b[1;34m(answer, gateway_client, target_id, name)\u001b[0m\n\u001b[0;32m    324\u001b[0m value \u001b[38;5;241m=\u001b[39m OUTPUT_CONVERTER[\u001b[38;5;28mtype\u001b[39m](answer[\u001b[38;5;241m2\u001b[39m:], gateway_client)\n\u001b[0;32m    325\u001b[0m \u001b[38;5;28;01mif\u001b[39;00m answer[\u001b[38;5;241m1\u001b[39m] \u001b[38;5;241m==\u001b[39m REFERENCE_TYPE:\n\u001b[1;32m--> 326\u001b[0m     \u001b[38;5;28;01mraise\u001b[39;00m Py4JJavaError(\n\u001b[0;32m    327\u001b[0m         \u001b[38;5;124m\"\u001b[39m\u001b[38;5;124mAn error occurred while calling \u001b[39m\u001b[38;5;132;01m{0}\u001b[39;00m\u001b[38;5;132;01m{1}\u001b[39;00m\u001b[38;5;132;01m{2}\u001b[39;00m\u001b[38;5;124m.\u001b[39m\u001b[38;5;130;01m\\n\u001b[39;00m\u001b[38;5;124m\"\u001b[39m\u001b[38;5;241m.\u001b[39m\n\u001b[0;32m    328\u001b[0m         \u001b[38;5;28mformat\u001b[39m(target_id, \u001b[38;5;124m\"\u001b[39m\u001b[38;5;124m.\u001b[39m\u001b[38;5;124m\"\u001b[39m, name), value)\n\u001b[0;32m    329\u001b[0m \u001b[38;5;28;01melse\u001b[39;00m:\n\u001b[0;32m    330\u001b[0m     \u001b[38;5;28;01mraise\u001b[39;00m Py4JError(\n\u001b[0;32m    331\u001b[0m         \u001b[38;5;124m\"\u001b[39m\u001b[38;5;124mAn error occurred while calling \u001b[39m\u001b[38;5;132;01m{0}\u001b[39;00m\u001b[38;5;132;01m{1}\u001b[39;00m\u001b[38;5;132;01m{2}\u001b[39;00m\u001b[38;5;124m. Trace:\u001b[39m\u001b[38;5;130;01m\\n\u001b[39;00m\u001b[38;5;132;01m{3}\u001b[39;00m\u001b[38;5;130;01m\\n\u001b[39;00m\u001b[38;5;124m\"\u001b[39m\u001b[38;5;241m.\u001b[39m\n\u001b[0;32m    332\u001b[0m         \u001b[38;5;28mformat\u001b[39m(target_id, \u001b[38;5;124m\"\u001b[39m\u001b[38;5;124m.\u001b[39m\u001b[38;5;124m\"\u001b[39m, name, value))\n",
      "\u001b[1;31mPy4JJavaError\u001b[0m: An error occurred while calling o278.collectToPython.\n: org.apache.spark.SparkException: Job aborted due to stage failure: Task 0 in stage 84.0 failed 1 times, most recent failure: Lost task 0.0 in stage 84.0 (TID 145) (WIN11-5490LT executor driver): TaskResultLost (result lost from block manager)\nDriver stacktrace:\r\n\tat org.apache.spark.scheduler.DAGScheduler.failJobAndIndependentStages(DAGScheduler.scala:2856)\r\n\tat org.apache.spark.scheduler.DAGScheduler.$anonfun$abortStage$2(DAGScheduler.scala:2792)\r\n\tat org.apache.spark.scheduler.DAGScheduler.$anonfun$abortStage$2$adapted(DAGScheduler.scala:2791)\r\n\tat org.apache.spark.scheduler.DAGScheduler$$Lambda$4321/137142533.apply(Unknown Source)\r\n\tat scala.collection.mutable.ResizableArray.foreach(ResizableArray.scala:62)\r\n\tat scala.collection.mutable.ResizableArray.foreach$(ResizableArray.scala:55)\r\n\tat scala.collection.mutable.ArrayBuffer.foreach(ArrayBuffer.scala:49)\r\n\tat org.apache.spark.scheduler.DAGScheduler.abortStage(DAGScheduler.scala:2791)\r\n\tat org.apache.spark.scheduler.DAGScheduler.$anonfun$handleTaskSetFailed$1(DAGScheduler.scala:1247)\r\n\tat org.apache.spark.scheduler.DAGScheduler.$anonfun$handleTaskSetFailed$1$adapted(DAGScheduler.scala:1247)\r\n\tat org.apache.spark.scheduler.DAGScheduler$$Lambda$4319/222932192.apply(Unknown Source)\r\n\tat scala.Option.foreach(Option.scala:407)\r\n\tat org.apache.spark.scheduler.DAGScheduler.handleTaskSetFailed(DAGScheduler.scala:1247)\r\n\tat org.apache.spark.scheduler.DAGSchedulerEventProcessLoop.doOnReceive(DAGScheduler.scala:3060)\r\n\tat org.apache.spark.scheduler.DAGSchedulerEventProcessLoop.onReceive(DAGScheduler.scala:2994)\r\n\tat org.apache.spark.scheduler.DAGSchedulerEventProcessLoop.onReceive(DAGScheduler.scala:2983)\r\n\tat org.apache.spark.util.EventLoop$$anon$1.run(EventLoop.scala:49)\r\n\tat org.apache.spark.scheduler.DAGScheduler.runJob(DAGScheduler.scala:989)\r\n\tat org.apache.spark.SparkContext.runJob(SparkContext.scala:2398)\r\n\tat org.apache.spark.SparkContext.runJob(SparkContext.scala:2419)\r\n\tat org.apache.spark.SparkContext.runJob(SparkContext.scala:2438)\r\n\tat org.apache.spark.SparkContext.runJob(SparkContext.scala:2463)\r\n\tat org.apache.spark.rdd.RDD.$anonfun$collect$1(RDD.scala:1049)\r\n\tat org.apache.spark.rdd.RDD$$Lambda$4033/208182276.apply(Unknown Source)\r\n\tat org.apache.spark.rdd.RDDOperationScope$.withScope(RDDOperationScope.scala:151)\r\n\tat org.apache.spark.rdd.RDDOperationScope$.withScope(RDDOperationScope.scala:112)\r\n\tat org.apache.spark.rdd.RDD.withScope(RDD.scala:410)\r\n\tat org.apache.spark.rdd.RDD.collect(RDD.scala:1048)\r\n\tat org.apache.spark.sql.execution.SparkPlan.executeCollect(SparkPlan.scala:448)\r\n\tat org.apache.spark.sql.Dataset.$anonfun$collectToPython$1(Dataset.scala:4148)\r\n\tat org.apache.spark.sql.Dataset$$Lambda$4276/732982198.apply(Unknown Source)\r\n\tat org.apache.spark.sql.Dataset.$anonfun$withAction$2(Dataset.scala:4322)\r\n\tat org.apache.spark.sql.Dataset$$Lambda$2035/1073890613.apply(Unknown Source)\r\n\tat org.apache.spark.sql.execution.QueryExecution$.withInternalError(QueryExecution.scala:546)\r\n\tat org.apache.spark.sql.Dataset.$anonfun$withAction$1(Dataset.scala:4320)\r\n\tat org.apache.spark.sql.Dataset$$Lambda$1686/1522981736.apply(Unknown Source)\r\n\tat org.apache.spark.sql.execution.SQLExecution$.$anonfun$withNewExecutionId$6(SQLExecution.scala:125)\r\n\tat org.apache.spark.sql.execution.SQLExecution$$$Lambda$1697/2121357279.apply(Unknown Source)\r\n\tat org.apache.spark.sql.execution.SQLExecution$.withSQLConfPropagated(SQLExecution.scala:201)\r\n\tat org.apache.spark.sql.execution.SQLExecution$.$anonfun$withNewExecutionId$1(SQLExecution.scala:108)\r\n\tat org.apache.spark.sql.execution.SQLExecution$$$Lambda$1687/880892462.apply(Unknown Source)\r\n\tat org.apache.spark.sql.SparkSession.withActive(SparkSession.scala:900)\r\n\tat org.apache.spark.sql.execution.SQLExecution$.withNewExecutionId(SQLExecution.scala:66)\r\n\tat org.apache.spark.sql.Dataset.withAction(Dataset.scala:4320)\r\n\tat org.apache.spark.sql.Dataset.collectToPython(Dataset.scala:4145)\r\n\tat sun.reflect.NativeMethodAccessorImpl.invoke0(Native Method)\r\n\tat sun.reflect.NativeMethodAccessorImpl.invoke(NativeMethodAccessorImpl.java:62)\r\n\tat sun.reflect.DelegatingMethodAccessorImpl.invoke(DelegatingMethodAccessorImpl.java:43)\r\n\tat java.lang.reflect.Method.invoke(Method.java:497)\r\n\tat py4j.reflection.MethodInvoker.invoke(MethodInvoker.java:244)\r\n\tat py4j.reflection.ReflectionEngine.invoke(ReflectionEngine.java:374)\r\n\tat py4j.Gateway.invoke(Gateway.java:282)\r\n\tat py4j.commands.AbstractCommand.invokeMethod(AbstractCommand.java:132)\r\n\tat py4j.commands.CallCommand.execute(CallCommand.java:79)\r\n\tat py4j.ClientServerConnection.waitForCommands(ClientServerConnection.java:182)\r\n\tat py4j.ClientServerConnection.run(ClientServerConnection.java:106)\r\n\tat java.lang.Thread.run(Thread.java:745)\r\n"
     ]
    }
   ],
   "source": [
    "import matplotlib.pyplot as plt\n",
    "import pandas as pd\n",
    "\n",
    "sample_df = df_new.sample(withReplacement=False, fraction=0.5, seed=42)\n",
    "pandas_df = sample_df.toPandas()\n"
   ]
  }
 ],
 "metadata": {
  "kernelspec": {
   "display_name": "pyspark",
   "language": "python",
   "name": "python3"
  },
  "language_info": {
   "codemirror_mode": {
    "name": "ipython",
    "version": 3
   },
   "file_extension": ".py",
   "mimetype": "text/x-python",
   "name": "python",
   "nbconvert_exporter": "python",
   "pygments_lexer": "ipython3",
   "version": "3.10.14"
  }
 },
 "nbformat": 4,
 "nbformat_minor": 2
}
