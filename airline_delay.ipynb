{
 "cells": [
  {
   "cell_type": "markdown",
   "metadata": {},
   "source": [
    "# Predicción del Retraso de Vuelos\n",
    "Yadier Betancourt Martínez\n",
    "\n",
    "Marlín Ramírez Rodríguez\n",
    "\n",
    "Para la realización de este trabajo estaremos usando la Base de casos Airlines Dataset to predict a delay, la cual puede ser accedida en Kaggle: https://www.kaggle.com/datasets/jimschacko/airlines-dataset-to-predict-a-delay"
   ]
  },
  {
   "cell_type": "code",
   "execution_count": 1,
   "metadata": {},
   "outputs": [],
   "source": [
    "from pyspark.sql import SparkSession\n",
    "\n",
    "spark = SparkSession\\\n",
    "        .builder\\\n",
    "        .master(\"local[*]\")\\\n",
    "        .appName(\"Airline Delay\")\\\n",
    "        .getOrCreate()"
   ]
  },
  {
   "cell_type": "markdown",
   "metadata": {},
   "source": [
    "Este conjunto de datos de aerolíneas contiene información sobre 539,383 vuelos. Cada vuelo está representado por 8 características diferentes que describen sus detalles.\n",
    "\n",
    "A continuación se muestra un resumen de las características:\n",
    "\n",
    "    Aerolínea: Nombre de la aerolínea que opera el vuelo (por ejemplo, \"American Airlines\", \"Alaska Airlines\").\n",
    "    Vuelo: Identificador único del vuelo.\n",
    "    Aeropuerto de Origen: Código IATA del aeropuerto de origen del vuelo.\n",
    "    Aeropuerto de Destino: Código IATA del aeropuerto de destino del vuelo.\n",
    "    Día de la Semana: Día de la semana en que se programó el vuelo.\n",
    "    Tiempo tomado: Tiempo que tomó el vuelo.\n",
    "    Largo: Distancia del vuelo.\n",
    "    Retraso: si presentó retraso o no"
   ]
  },
  {
   "cell_type": "code",
   "execution_count": 2,
   "metadata": {},
   "outputs": [
    {
     "name": "stdout",
     "output_type": "stream",
     "text": [
      "+---+-------+------+-----------+---------+---------+----+------+-----+\n",
      "| id|Airline|Flight|AirportFrom|AirportTo|DayOfWeek|Time|Length|Delay|\n",
      "+---+-------+------+-----------+---------+---------+----+------+-----+\n",
      "|  1|     CO|   269|        SFO|      IAH|        3|  15|   205|    1|\n",
      "|  2|     US|  1558|        PHX|      CLT|        3|  15|   222|    1|\n",
      "|  3|     AA|  2400|        LAX|      DFW|        3|  20|   165|    1|\n",
      "|  4|     AA|  2466|        SFO|      DFW|        3|  20|   195|    1|\n",
      "|  5|     AS|   108|        ANC|      SEA|        3|  30|   202|    0|\n",
      "|  6|     CO|  1094|        LAX|      IAH|        3|  30|   181|    1|\n",
      "|  7|     DL|  1768|        LAX|      MSP|        3|  30|   220|    0|\n",
      "|  8|     DL|  2722|        PHX|      DTW|        3|  30|   228|    0|\n",
      "|  9|     DL|  2606|        SFO|      MSP|        3|  35|   216|    1|\n",
      "| 10|     AA|  2538|        LAS|      ORD|        3|  40|   200|    1|\n",
      "+---+-------+------+-----------+---------+---------+----+------+-----+\n",
      "only showing top 10 rows\n",
      "\n"
     ]
    }
   ],
   "source": [
    "path = r'C:\\Estudio\\programeo\\IA\\BigDataOpt\\Airlines.csv'\n",
    "\n",
    "df = spark.read.csv(path, header=True, inferSchema=True)\n",
    "\n",
    "df.show(10)"
   ]
  },
  {
   "cell_type": "markdown",
   "metadata": {},
   "source": [
    "A continuación podemos observar el esquema de nuestros datos, mostrándose las columnas y sus tipos de datos, así como la cantidad de casos de nuestro dataset:"
   ]
  },
  {
   "cell_type": "code",
   "execution_count": 3,
   "metadata": {},
   "outputs": [
    {
     "name": "stdout",
     "output_type": "stream",
     "text": [
      "root\n",
      " |-- id: integer (nullable = true)\n",
      " |-- Airline: string (nullable = true)\n",
      " |-- Flight: integer (nullable = true)\n",
      " |-- AirportFrom: string (nullable = true)\n",
      " |-- AirportTo: string (nullable = true)\n",
      " |-- DayOfWeek: integer (nullable = true)\n",
      " |-- Time: integer (nullable = true)\n",
      " |-- Length: integer (nullable = true)\n",
      " |-- Delay: integer (nullable = true)\n",
      "\n"
     ]
    },
    {
     "data": {
      "text/plain": [
       "539383"
      ]
     },
     "execution_count": 3,
     "metadata": {},
     "output_type": "execute_result"
    }
   ],
   "source": [
    "df.printSchema()\n",
    "df.count()"
   ]
  },
  {
   "cell_type": "markdown",
   "metadata": {},
   "source": [
    "El siguiente fragmento de código nos permite analizar cuántos vuelos opera cada aerolínea en el conjunto de datos. Se agrupa por aerolínea, se cuenta el número de vuelos para cada aerolínea, se ordena por número de vuelos de menor a mayor y finalmente se muestra el resultado:"
   ]
  },
  {
   "cell_type": "code",
   "execution_count": 4,
   "metadata": {},
   "outputs": [
    {
     "name": "stdout",
     "output_type": "stream",
     "text": [
      "+-------+-----+\n",
      "|Airline|count|\n",
      "+-------+-----+\n",
      "|     HA| 5578|\n",
      "|     F9| 6456|\n",
      "|     AS|11471|\n",
      "|     OH|12630|\n",
      "|     YV|13725|\n",
      "|     B6|18112|\n",
      "|     9E|20686|\n",
      "|     FL|20827|\n",
      "|     CO|21118|\n",
      "|     UA|27619|\n",
      "|     EV|27983|\n",
      "|     XE|31126|\n",
      "|     US|34500|\n",
      "|     MQ|36605|\n",
      "|     AA|45656|\n",
      "|     OO|50254|\n",
      "|     DL|60940|\n",
      "|     WN|94097|\n",
      "+-------+-----+\n",
      "\n"
     ]
    }
   ],
   "source": [
    "df.groupBy('Airline').count().sort('count',ascending=True).show()"
   ]
  },
  {
   "cell_type": "markdown",
   "metadata": {},
   "source": [
    "El siguiente fragmento de código nos permite analizar cuántos vuelos tienen cada valor de retraso en el conjunto de datos. Se agrupa por valor de retraso, se cuenta el número de vuelos con cada valor de retraso, se ordena por número de vuelos de mayor a menor y finalmente se muestra el resultado:"
   ]
  },
  {
   "cell_type": "code",
   "execution_count": 5,
   "metadata": {},
   "outputs": [
    {
     "name": "stdout",
     "output_type": "stream",
     "text": [
      "+-----+------+\n",
      "|Delay| count|\n",
      "+-----+------+\n",
      "|    0|299119|\n",
      "|    1|240264|\n",
      "+-----+------+\n",
      "\n"
     ]
    }
   ],
   "source": [
    "df.groupBy('Delay').count().sort('count',ascending=False).show()"
   ]
  },
  {
   "cell_type": "markdown",
   "metadata": {},
   "source": [
    "El siguiente fragmento de código es útil para obtener una comprensión rápida de las características básicas de las variables numéricas en un conjunto de datos, para ello describiremos el Length y el Time:"
   ]
  },
  {
   "cell_type": "code",
   "execution_count": 6,
   "metadata": {},
   "outputs": [
    {
     "name": "stdout",
     "output_type": "stream",
     "text": [
      "+-------+------------------+------------------+\n",
      "|summary|            Length|              Time|\n",
      "+-------+------------------+------------------+\n",
      "|  count|            539383|            539383|\n",
      "|   mean|132.20200673732765| 802.7289625368245|\n",
      "| stddev| 70.11701559746582|278.04591081678984|\n",
      "|    min|                 0|                10|\n",
      "|    max|               655|              1439|\n",
      "+-------+------------------+------------------+\n",
      "\n"
     ]
    }
   ],
   "source": [
    "df.describe(\"Length\",\"Time\").show()"
   ]
  },
  {
   "cell_type": "markdown",
   "metadata": {},
   "source": [
    "El siguiente código nos permite analizar la relación entre el retraso del vuelo y la aerolínea. La tabla resultante mostrará cuántos vuelos de cada aerolínea experimentaron cada valor de retraso:"
   ]
  },
  {
   "cell_type": "code",
   "execution_count": 7,
   "metadata": {},
   "outputs": [
    {
     "name": "stdout",
     "output_type": "stream",
     "text": [
      "+-------------+-----+-----+----+----+-----+-----+-----+----+-----+----+-----+----+-----+-----+-----+-----+-----+-----+\n",
      "|Delay_Airline|   9E|   AA|  AS|  B6|   CO|   DL|   EV|  F9|   FL|  HA|   MQ|  OH|   OO|   UA|   US|   WN|   XE|   YV|\n",
      "+-------------+-----+-----+----+----+-----+-----+-----+----+-----+----+-----+----+-----+-----+-----+-----+-----+-----+\n",
      "|            0|12460|27920|7579|9653| 9161|33488|16728|3557|14552|3792|23863|9128|27494|18673|22909|28440|19331|10391|\n",
      "|            1| 8226|17736|3892|8459|11957|27452|11255|2899| 6275|1786|12742|3502|22760| 8946|11591|65657|11795| 3334|\n",
      "+-------------+-----+-----+----+----+-----+-----+-----+----+-----+----+-----+----+-----+-----+-----+-----+-----+-----+\n",
      "\n"
     ]
    }
   ],
   "source": [
    "df.crosstab('Delay', 'Airline').sort('Delay_airline').show()"
   ]
  },
  {
   "cell_type": "markdown",
   "metadata": {},
   "source": [
    "El siguiente código nos permite analizar la relación entre el retraso del vuelo y el aeropuerto de origen. La tabla resultante mostrará cuántos vuelos de cada aeropuerto de origen experimentaron cada valor de retraso:"
   ]
  },
  {
   "cell_type": "code",
   "execution_count": 8,
   "metadata": {},
   "outputs": [
    {
     "name": "stdout",
     "output_type": "stream",
     "text": [
      "+-----------------+---+---+----+---+---+---+---+---+---+---+---+---+---+---+---+---+-----+---+----+---+---+---+----+---+---+---+---+---+---+---+---+---+---+----+---+----+---+---+---+---+---+---+---+----+----+----+---+---+---+---+---+---+---+---+---+---+---+---+----+---+----+----+---+---+---+---+---+---+---+---+---+----+---+---+---+----+---+---+----+-----+-----+---+---+---+---+----+---+---+---+---+---+----+---+---+---+---+----+---+---+---+---+---+---+---+----+---+---+---+---+---+---+---+---+---+---+---+---+---+---+---+---+---+---+---+---+---+---+---+----+----+---+---+---+---+----+----+---+---+---+----+---+---+---+---+---+---+---+----+----+---+---+---+---+----+----+---+---+---+---+----+---+---+---+---+---+---+---+---+---+---+---+---+----+----+---+----+---+----+---+---+---+---+---+----+----+---+---+---+---+---+---+---+---+---+---+---+---+----+----+---+---+---+----+----+----+----+---+---+-----+---+---+---+---+----+----+---+----+----+---+---+---+----+---+---+---+---+---+---+---+---+---+---+---+----+----+---+---+---+---+---+---+----+---+----+----+---+---+---+---+---+---+---+----+----+---+---+---+---+----+---+----+----+----+---+----+---+---+---+----+---+---+---+---+---+---+---+---+----+---+----+----+---+---+---+---+---+---+---+---+---+---+---+---+\n",
      "|Delay_AirportFrom|ABE|ABI| ABQ|ABR|ABY|ACT|ACV|ACY|ADK|ADQ|AEX|AGS|ALB|AMA|ANC|ASE|  ATL|ATW| AUS|AVL|AVP|AZO| BDL|BET|BFL|BGM|BGR|BHM|BIL|BIS|BKG|BLI|BMI| BNA|BOI| BOS|BQK|BQN|BRO|BRW|BTM|BTR|BTV| BUF| BUR| BWI|BZN|CAE|CAK|CDC|CDV|CEC|CHA|CHO|CHS|CIC|CID|CLD| CLE|CLL| CLT| CMH|CMI|CMX|COD|COS|COU|CPR|CRP|CRW|CSG| CVG|CWA|CYS|DAB| DAL|DAY|DBQ| DCA|  DEN|  DFW|DHN|DLH|DRO|DSM| DTW|EAU|ECP|EGE|EKO|ELM| ELP|ERI|EUG|EVV|EWN| EWR|EYW|FAI|FAR|FAT|FAY|FCA|FLG| FLL|FLO|FNT|FSD|FSM|FWA|GCC|GEG|GFK|GGG|GJT|GNV|GPT|GRB|GRK|GRR|GSO|GSP|GTF|GTR|GUC|GUM|HDN|HLN| HNL| HOU|HPN|HRL|HSV|HTS| IAD| IAH|ICT|IDA|ILM| IND|IPL|ISP|ITH|ITO|IYK|JAC|JAN| JAX| JFK|JNU|KOA|KTN|LAN| LAS| LAX|LBB|LCH|LEX|LFT| LGA|LGB|LIH|LIT|LMT|LNK|LRD|LSE|LWB|LWS|LYH|MAF|MBS| MCI| MCO|MDT| MDW|MEI| MEM|MFE|MFR|MGM|MHK|MHT| MIA| MKE|MKG|MLB|MLI|MLU|MMH|MOB|MOD|MOT|MQT|MRY|MSN|MSO| MSP| MSY|MTJ|MYR|OAJ| OAK| OGG| OKC| OMA|OME|ONT|  ORD|ORF|OTH|OTZ|PAH| PBI| PDX|PHF| PHL| PHX|PIA|PIE|PIH| PIT|PLN|PNS|PSC|PSE|PSG|PSP|PVD|PWM|RAP|RDD|RDM| RDU| RIC|RKS|RNO|ROA|ROC|ROW|RST| RSW|SAF| SAN| SAT|SAV|SBA|SBN|SBP|SCC|SCE|SDF| SEA| SFO|SGF|SGU|SHV|SIT| SJC|SJT| SJU| SLC| SMF|SMX| SNA|SPI|SPS|SRQ| STL|STT|STX|SUN|SWF|SYR|TEX|TLH|TOL| TPA|TRI| TUL| TUS|TVC|TWF|TXK|TYR|TYS|UTM|VLD|VPS|WRG|XNA|YAK|YUM|\n",
      "+-----------------+---+---+----+---+---+---+---+---+---+---+---+---+---+---+---+---+-----+---+----+---+---+---+----+---+---+---+---+---+---+---+---+---+---+----+---+----+---+---+---+---+---+---+---+----+----+----+---+---+---+---+---+---+---+---+---+---+---+---+----+---+----+----+---+---+---+---+---+---+---+---+---+----+---+---+---+----+---+---+----+-----+-----+---+---+---+---+----+---+---+---+---+---+----+---+---+---+---+----+---+---+---+---+---+---+---+----+---+---+---+---+---+---+---+---+---+---+---+---+---+---+---+---+---+---+---+---+---+---+---+----+----+---+---+---+---+----+----+---+---+---+----+---+---+---+---+---+---+---+----+----+---+---+---+---+----+----+---+---+---+---+----+---+---+---+---+---+---+---+---+---+---+---+---+----+----+---+----+---+----+---+---+---+---+---+----+----+---+---+---+---+---+---+---+---+---+---+---+---+----+----+---+---+---+----+----+----+----+---+---+-----+---+---+---+---+----+----+---+----+----+---+---+---+----+---+---+---+---+---+---+---+---+---+---+---+----+----+---+---+---+---+---+---+----+---+----+----+---+---+---+---+---+---+---+----+----+---+---+---+---+----+---+----+----+----+---+----+---+---+---+----+---+---+---+---+---+---+---+---+----+---+----+----+---+---+---+---+---+---+---+---+---+---+---+---+\n",
      "|                0|232|179|1424|  1| 65| 43|139| 46|  4| 38|210|206|551|249|892|280|19848|267|2070|254|113|181|1287| 38|182| 41| 16|957|225|180| 47| 17|232|2068|587|5717| 65| 79|158| 31| 39|539|308|1013| 978|3655|262|440|461| 28| 44| 45|255| 66|692| 71|311| 97|2788| 21|6551|1444|123| 43| 58|661| 61|123|514|225|126|2884| 83| 24| 76|1090|846| 18|4830|10410|13345| 90|140|203|662|6836| 55|403|177| 60| 62|1024| 46|229|257| 57|4933| 78|206|302|595|234|117|193|3158|  7|243|325|134|300| 77|581|123| 23|351|121|358|353|186|641|569|490|104| 52| 63|  4|108| 93|3031|1471|473|271|615| 50|4010|8156|692|157|236|1854| 49|283| 39|442| 67|153|626|1826|5561|188|770|124|191|5244|8387|374| 75|459|345|5513|619|693|973| 52|141|168| 95| 46| 24| 40|378|221|2122|5998|361|1881| 42|4381|291|221|275| 80|639|3865|2236| 48| 95|232|119| 12|417| 88| 76| 80|304|511|183|5205|2030|111|218| 75|1086|1322|1168|1182| 46|952|12916|861| 34| 40| 39|1542|2302|270|4297|8713|153| 16| 62|1785| 22|581|139| 45| 35|644|934|355|264| 81|150|2488|1029| 86|741|200|728| 55|119|1883| 63|2968|1900|497|520|224|246| 41| 52|770|4669|5505|452|116|313| 64|1386| 11|1109|4941|1381| 86|1726|127| 34|376|2171|180| 25|136|120|486| 23|285| 14|3745|212|1055|1245|175| 60| 68| 44|819| 12| 67|423| 41|811| 48|244|\n",
      "|                1|110| 32|1375|  1| 22| 17|157| 16|  5| 18| 76|116|400|233|415|178|14601|111|1584|172| 86| 62| 993| 46| 94| 33| 16|799| 81|144| 13|  9|173|2285|621|3722| 22| 58| 49| 37| 21|199|215| 925|1169|4910| 97|243|298| 27| 13| 43|108| 21|315| 49|166| 66|1995| 10|4582|1213| 56| 19| 35|370| 28| 53|175|166| 53|1824| 58|  7| 59|2748|398|  9|2243| 9433| 8809| 28| 84| 88|388|6300| 34|177| 83| 56| 42| 794| 28|190| 93| 17|4740| 48|123|188|376|104| 44| 26|2649| 11|188|192| 28|149| 47|479| 83|  8|118| 73|144|188| 81|374|302|300| 43|  9| 32|  6| 50| 52|1423|2949|343|141|234|  7|2518|7665|286| 67| 81|1281| 13|348| 36|162| 19| 97|359| 912|3935|107|231| 54| 71|6674|8270|248| 15|343| 89|3034|507|243|599| 41| 69| 56| 40| 16| 33| 19|209| 89|2115|4598|168|5222| 16|2069| 88|140|113| 43|427|2851|1832| 18| 43|213| 53|  4|145| 56| 88| 26|147|289|100|4961|1370| 72| 62| 60|2697| 450| 738| 789| 44|992|11906|558| 59| 50| 23| 843|1972|185|3183|6844| 97|  7| 51|1480| 10|248|138| 17| 24|382|609|161|157| 39|122|1671| 527| 69|967|107|462| 32| 49| 834| 29|3402|1372|286|307|204|160| 15| 35|641|3369|6281|169| 76| 84| 25|1971|  4| 786|5532|2123| 34|1809| 47| 12|137|2860| 64| 21| 57| 61|431|  4|146| 13|2340|101| 609| 617|102| 61|  9| 16|386|  6| 20|210| 18|317|  9| 94|\n",
      "+-----------------+---+---+----+---+---+---+---+---+---+---+---+---+---+---+---+---+-----+---+----+---+---+---+----+---+---+---+---+---+---+---+---+---+---+----+---+----+---+---+---+---+---+---+---+----+----+----+---+---+---+---+---+---+---+---+---+---+---+---+----+---+----+----+---+---+---+---+---+---+---+---+---+----+---+---+---+----+---+---+----+-----+-----+---+---+---+---+----+---+---+---+---+---+----+---+---+---+---+----+---+---+---+---+---+---+---+----+---+---+---+---+---+---+---+---+---+---+---+---+---+---+---+---+---+---+---+---+---+---+---+----+----+---+---+---+---+----+----+---+---+---+----+---+---+---+---+---+---+---+----+----+---+---+---+---+----+----+---+---+---+---+----+---+---+---+---+---+---+---+---+---+---+---+---+----+----+---+----+---+----+---+---+---+---+---+----+----+---+---+---+---+---+---+---+---+---+---+---+---+----+----+---+---+---+----+----+----+----+---+---+-----+---+---+---+---+----+----+---+----+----+---+---+---+----+---+---+---+---+---+---+---+---+---+---+---+----+----+---+---+---+---+---+---+----+---+----+----+---+---+---+---+---+---+---+----+----+---+---+---+---+----+---+----+----+----+---+----+---+---+---+----+---+---+---+---+---+---+---+---+----+---+----+----+---+---+---+---+---+---+---+---+---+---+---+---+\n",
      "\n"
     ]
    }
   ],
   "source": [
    "df.crosstab('Delay', 'AirportFrom').sort('Delay_AirportFrom').show()"
   ]
  },
  {
   "cell_type": "markdown",
   "metadata": {},
   "source": [
    "El siguiente fragmento de código nos permite contar el número de vuelos que tomaron menos de 15 minutos:"
   ]
  },
  {
   "cell_type": "code",
   "execution_count": 9,
   "metadata": {},
   "outputs": [
    {
     "data": {
      "text/plain": [
       "93"
      ]
     },
     "execution_count": 9,
     "metadata": {},
     "output_type": "execute_result"
    }
   ],
   "source": [
    "df.filter(df.Time<=15).count()"
   ]
  },
  {
   "cell_type": "markdown",
   "metadata": {},
   "source": [
    "El siguiente fragmento de código nos permite contar el número de vuelos que no se retrasaron:"
   ]
  },
  {
   "cell_type": "code",
   "execution_count": 10,
   "metadata": {},
   "outputs": [
    {
     "data": {
      "text/plain": [
       "299119"
      ]
     },
     "execution_count": 10,
     "metadata": {},
     "output_type": "execute_result"
    }
   ],
   "source": [
    "df.filter(df.Delay==0).count()"
   ]
  },
  {
   "cell_type": "markdown",
   "metadata": {},
   "source": [
    "El siguiente fragmento de código nos permite calcular la duración promedio para cada vuelo en el conjunto de datos:"
   ]
  },
  {
   "cell_type": "code",
   "execution_count": 11,
   "metadata": {},
   "outputs": [
    {
     "name": "stdout",
     "output_type": "stream",
     "text": [
      "+------+------------------+\n",
      "|Flight|         avg(Time)|\n",
      "+------+------------------+\n",
      "|  6466|476.28169014084506|\n",
      "|   463|  933.578947368421|\n",
      "|  1580| 744.0990099009902|\n",
      "|  6357|            781.94|\n",
      "|  6397| 819.0555555555555|\n",
      "|  3997| 540.6962025316456|\n",
      "|   496| 739.8803418803419|\n",
      "|  1591| 889.5211267605633|\n",
      "|  6658| 984.9672131147541|\n",
      "|  1829| 802.5547445255474|\n",
      "|   471| 823.9830508474577|\n",
      "|  1088|            732.61|\n",
      "|  2366| 618.1884057971015|\n",
      "|  2142| 806.9157894736842|\n",
      "|   833|        649.921875|\n",
      "|  2122| 671.1724137931035|\n",
      "|  1959| 757.8048780487804|\n",
      "|  5300|             505.0|\n",
      "|  4519| 530.8771929824561|\n",
      "|  1238| 820.5603448275862|\n",
      "+------+------------------+\n",
      "only showing top 20 rows\n",
      "\n"
     ]
    }
   ],
   "source": [
    "df.groupBy('Flight').agg({'Time':'mean'}).show()"
   ]
  },
  {
   "cell_type": "markdown",
   "metadata": {},
   "source": [
    "EL siguiente código elimina la columna id, pues no posee ninguna utilidad para nuestro trabajo:"
   ]
  },
  {
   "cell_type": "code",
   "execution_count": 12,
   "metadata": {},
   "outputs": [],
   "source": [
    "df_new = df.drop('id')"
   ]
  },
  {
   "cell_type": "markdown",
   "metadata": {},
   "source": [
    "El siguiente código crea una nueva columna llamada Length Scaled. La nueva columna contiene los valores de la columna original Length divididos por 655, siendo este número el máximo de Length, dato obtenido del `describe` visto anteriormente: "
   ]
  },
  {
   "cell_type": "code",
   "execution_count": 13,
   "metadata": {},
   "outputs": [
    {
     "name": "stdout",
     "output_type": "stream",
     "text": [
      "+-------+------+-----------+---------+---------+----+------+-----+-------------------+\n",
      "|Airline|Flight|AirportFrom|AirportTo|DayOfWeek|Time|Length|Delay|      Length Scaled|\n",
      "+-------+------+-----------+---------+---------+----+------+-----+-------------------+\n",
      "|     CO|   269|        SFO|      IAH|        3|  15|   205|    1|0.31297709923664124|\n",
      "|     US|  1558|        PHX|      CLT|        3|  15|   222|    1|0.33893129770992364|\n",
      "|     AA|  2400|        LAX|      DFW|        3|  20|   165|    1|0.25190839694656486|\n",
      "|     AA|  2466|        SFO|      DFW|        3|  20|   195|    1|0.29770992366412213|\n",
      "|     AS|   108|        ANC|      SEA|        3|  30|   202|    0| 0.3083969465648855|\n",
      "|     CO|  1094|        LAX|      IAH|        3|  30|   181|    1|0.27633587786259545|\n",
      "|     DL|  1768|        LAX|      MSP|        3|  30|   220|    0|0.33587786259541985|\n",
      "|     DL|  2722|        PHX|      DTW|        3|  30|   228|    0| 0.3480916030534351|\n",
      "|     DL|  2606|        SFO|      MSP|        3|  35|   216|    1| 0.3297709923664122|\n",
      "|     AA|  2538|        LAS|      ORD|        3|  40|   200|    1| 0.3053435114503817|\n",
      "|     CO|   223|        ANC|      SEA|        3|  49|   201|    1| 0.3068702290076336|\n",
      "|     DL|  1646|        PHX|      ATL|        3|  50|   212|    1| 0.3236641221374046|\n",
      "|     DL|  2055|        SLC|      ATL|        3|  50|   210|    0|0.32061068702290074|\n",
      "|     AA|  2408|        LAX|      DFW|        3|  55|   170|    0| 0.2595419847328244|\n",
      "|     AS|   132|        ANC|      PDX|        3|  55|   215|    0| 0.3282442748091603|\n",
      "|     US|   498|        DEN|      CLT|        3|  55|   179|    0| 0.2732824427480916|\n",
      "|     B6|    98|        DEN|      JFK|        3|  59|   213|    0| 0.3251908396946565|\n",
      "|     CO|  1496|        LAS|      IAH|        3|  60|   162|    0|0.24732824427480915|\n",
      "|     DL|  1450|        LAS|      MSP|        3|  60|   181|    0|0.27633587786259545|\n",
      "|     CO|   507|        ONT|      IAH|        3|  75|   167|    0| 0.2549618320610687|\n",
      "+-------+------+-----------+---------+---------+----+------+-----+-------------------+\n",
      "only showing top 20 rows\n",
      "\n"
     ]
    }
   ],
   "source": [
    "df_new = df_new.withColumn('Length Scaled', df['Length'] / 655)\n",
    "df_new.show()"
   ]
  },
  {
   "cell_type": "markdown",
   "metadata": {},
   "source": [
    "El siguiente fragmento de código agrupa por aerolínea y calcula el tiempo de duración promedio para cada aerolínea, mostrando ordenadamente las aerolíneas en las que los vuelos demoran más a las que menos: "
   ]
  },
  {
   "cell_type": "code",
   "execution_count": 14,
   "metadata": {},
   "outputs": [
    {
     "name": "stdout",
     "output_type": "stream",
     "text": [
      "+-------+-----------------+\n",
      "|Airline|        avg(Time)|\n",
      "+-------+-----------------+\n",
      "|     FL|833.1544629567388|\n",
      "|     YV|832.2568306010929|\n",
      "|     B6|825.5022636925795|\n",
      "|     OO|811.2070083973415|\n",
      "|     F9|807.0885997521685|\n",
      "|     US| 805.075884057971|\n",
      "|     WN|802.3435922505499|\n",
      "|     AA|800.8028955668477|\n",
      "|     EV|799.8396526462495|\n",
      "|     DL|799.6361667213653|\n",
      "|     UA|797.7448857670445|\n",
      "|     AS|796.6563507976637|\n",
      "|     HA|795.2260666905701|\n",
      "|     OH|793.0209817893904|\n",
      "|     9E|792.1733056173257|\n",
      "|     XE|792.1371843474908|\n",
      "|     MQ|791.4752356235487|\n",
      "|     CO|790.3554787385169|\n",
      "+-------+-----------------+\n",
      "\n"
     ]
    }
   ],
   "source": [
    "df_new.groupBy('Airline').agg({'Time':'mean'}).sort(\"avg(Time)\", ascending=False).show()"
   ]
  },
  {
   "cell_type": "markdown",
   "metadata": {},
   "source": [
    "El siguiente código analiza y visualiza a través de un gráfico de barras, la distribución de los vuelos por día de la semana en el conjunto de datos:"
   ]
  },
  {
   "cell_type": "code",
   "execution_count": 15,
   "metadata": {},
   "outputs": [
    {
     "data": {
      "image/png": "[encoded data removed]",
      "text/plain": [
       "<Figure size 640x480 with 1 Axes>"
      ]
     },
     "metadata": {},
     "output_type": "display_data"
    }
   ],
   "source": [
    "import matplotlib.pyplot as plt\n",
    "import pandas as pd\n",
    "\n",
    "sample_df = df_new.sample(withReplacement=False, fraction=0.5, seed=42)\n",
    "pandas_df = sample_df.toPandas()\n",
    "\n",
    "delay_counts = pandas_df['DayOfWeek'].value_counts()\n",
    "\n",
    "plt.bar(delay_counts.index, delay_counts.values)\n",
    "\n",
    "plt.xlabel('Día de la semana')\n",
    "plt.ylabel('Cantidad de vuelos')\n",
    "plt.title('Cantidad de vuelos por días de la semana')\n",
    "\n",
    "plt.show()"
   ]
  },
  {
   "cell_type": "markdown",
   "metadata": {},
   "source": [
    "El siguiente código analiza y visualiza a través de un gráfico de barras, la distribución de los vuelos por aerolínea en el conjunto de datos:"
   ]
  },
  {
   "cell_type": "code",
   "execution_count": 16,
   "metadata": {},
   "outputs": [
    {
     "data": {
      "image/png": "[encoded data removed]",
      "text/plain": [
       "<Figure size 640x480 with 1 Axes>"
      ]
     },
     "metadata": {},
     "output_type": "display_data"
    }
   ],
   "source": [
    "Airline_counts = pandas_df['Airline'].value_counts()\n",
    "\n",
    "plt.bar(Airline_counts.index, Airline_counts.values)\n",
    "\n",
    "# Agregar etiquetas y título\n",
    "plt.xlabel('Aerolínea')\n",
    "plt.ylabel('Cantidad de vuelos')\n",
    "plt.title('Cantidad de vuelos por Aerolínea')\n",
    "\n",
    "# Mostrar la gráfica\n",
    "plt.show()"
   ]
  },
  {
   "cell_type": "markdown",
   "metadata": {},
   "source": [
    "El siguiente código genera un diagrama de cajas para visualizar la distribución del tiempo de duración de los vuelos. El diagrama muestra la mediana, los cuartiles y los valores atípicos de la columna Time:"
   ]
  },
  {
   "cell_type": "code",
   "execution_count": 17,
   "metadata": {},
   "outputs": [
    {
     "data": {
      "image/png": "[encoded data removed]",
      "text/plain": [
       "<Figure size 640x480 with 1 Axes>"
      ]
     },
     "metadata": {},
     "output_type": "display_data"
    }
   ],
   "source": [
    "plt.boxplot(pandas_df['Time'])\n",
    "\n",
    "# Agregar etiqueta al eje y\n",
    "plt.ylabel('Tiempo')\n",
    "\n",
    "# Mostrar la gráfica\n",
    "plt.show()"
   ]
  },
  {
   "cell_type": "code",
   "execution_count": 18,
   "metadata": {},
   "outputs": [
    {
     "name": "stdout",
     "output_type": "stream",
     "text": [
      "Airline 0\n",
      "Flight 0\n",
      "AirportFrom 0\n",
      "AirportTo 0\n",
      "DayOfWeek 0\n",
      "Time 0\n",
      "Length 0\n",
      "Delay 0\n",
      "Length Scaled 0\n"
     ]
    }
   ],
   "source": [
    "for col in df_new.columns:\n",
    "    print(f\"{col} {df_new.filter(df_new[col].isNull()).count()}\" )"
   ]
  },
  {
   "cell_type": "code",
   "execution_count": 19,
   "metadata": {},
   "outputs": [],
   "source": [
    "distinct_counts = {var: df_new.select('AirportTo').distinct().count() for var in df_new.columns}"
   ]
  },
  {
   "cell_type": "code",
   "execution_count": 20,
   "metadata": {},
   "outputs": [
    {
     "name": "stdout",
     "output_type": "stream",
     "text": [
      "Variable 'Airline' tiene 293 valores distintos.\n",
      "Variable 'Flight' tiene 293 valores distintos.\n",
      "Variable 'AirportFrom' tiene 293 valores distintos.\n",
      "Variable 'AirportTo' tiene 293 valores distintos.\n",
      "Variable 'DayOfWeek' tiene 293 valores distintos.\n",
      "Variable 'Time' tiene 293 valores distintos.\n",
      "Variable 'Length' tiene 293 valores distintos.\n",
      "Variable 'Delay' tiene 293 valores distintos.\n",
      "Variable 'Length Scaled' tiene 293 valores distintos.\n"
     ]
    }
   ],
   "source": [
    "for var, count in distinct_counts.items():\n",
    "    print(f\"Variable '{var}' tiene {count} valores distintos.\")\n"
   ]
  },
  {
   "cell_type": "code",
   "execution_count": 21,
   "metadata": {},
   "outputs": [
    {
     "name": "stdout",
     "output_type": "stream",
     "text": [
      "+-------+------+-----------+---------+---------+----+------+-----+-------------------+-------------+-----------------+---------------+\n",
      "|Airline|Flight|AirportFrom|AirportTo|DayOfWeek|Time|Length|Delay|      Length Scaled|Airline_index|AirportFrom_index|AirportTo_index|\n",
      "+-------+------+-----------+---------+---------+----+------+-----+-------------------+-------------+-----------------+---------------+\n",
      "|     CO|   269|        SFO|      IAH|        3|  15|   205|    1|0.31297709923664124|          9.0|              9.0|            5.0|\n",
      "|     US|  1558|        PHX|      CLT|        3|  15|   222|    1|0.33893129770992364|          5.0|              6.0|           10.0|\n",
      "|     AA|  2400|        LAX|      DFW|        3|  20|   165|    1|0.25190839694656486|          3.0|              4.0|            2.0|\n",
      "|     AA|  2466|        SFO|      DFW|        3|  20|   195|    1|0.29770992366412213|          3.0|              9.0|            2.0|\n",
      "|     AS|   108|        ANC|      SEA|        3|  30|   202|    0| 0.3083969465648855|         15.0|             72.0|           19.0|\n",
      "|     CO|  1094|        LAX|      IAH|        3|  30|   181|    1|0.27633587786259545|          9.0|              4.0|            5.0|\n",
      "|     DL|  1768|        LAX|      MSP|        3|  30|   220|    0|0.33587786259541985|          1.0|              4.0|           13.0|\n",
      "|     DL|  2722|        PHX|      DTW|        3|  30|   228|    0| 0.3480916030534351|          1.0|              6.0|            7.0|\n",
      "|     DL|  2606|        SFO|      MSP|        3|  35|   216|    1| 0.3297709923664122|          1.0|              9.0|           13.0|\n",
      "|     AA|  2538|        LAS|      ORD|        3|  40|   200|    1| 0.3053435114503817|          3.0|              8.0|            1.0|\n",
      "+-------+------+-----------+---------+---------+----+------+-----+-------------------+-------------+-----------------+---------------+\n",
      "only showing top 10 rows\n",
      "\n"
     ]
    }
   ],
   "source": [
    "from pyspark.ml.feature import StringIndexer\n",
    "\n",
    "columns_to_index = [\"Airline\",\"AirportFrom\",\"AirportTo\"]\n",
    "\n",
    "indexer = StringIndexer(inputCols = columns_to_index, outputCols = [\"Airline_index\",\"AirportFrom_index\",\"AirportTo_index\"])\n",
    "\n",
    "model = indexer.fit(df_new)\n",
    "df_indexed = model.transform(df_new)\n",
    "\n",
    "df_indexed.show(10)"
   ]
  },
  {
   "cell_type": "code",
   "execution_count": 22,
   "metadata": {},
   "outputs": [
    {
     "name": "stdout",
     "output_type": "stream",
     "text": [
      "+-------+------+-----------+---------+---------+----+------+-----+-------------------+-------------+-----------------+---------------+---------------+\n",
      "|Airline|Flight|AirportFrom|AirportTo|DayOfWeek|Time|Length|Delay|      Length Scaled|Airline_index|AirportFrom_index|AirportTo_index| Airline_onehot|\n",
      "+-------+------+-----------+---------+---------+----+------+-----+-------------------+-------------+-----------------+---------------+---------------+\n",
      "|     CO|   269|        SFO|      IAH|        3|  15|   205|    1|0.31297709923664124|          9.0|              9.0|            5.0| (18,[9],[1.0])|\n",
      "|     US|  1558|        PHX|      CLT|        3|  15|   222|    1|0.33893129770992364|          5.0|              6.0|           10.0| (18,[5],[1.0])|\n",
      "|     AA|  2400|        LAX|      DFW|        3|  20|   165|    1|0.25190839694656486|          3.0|              4.0|            2.0| (18,[3],[1.0])|\n",
      "|     AA|  2466|        SFO|      DFW|        3|  20|   195|    1|0.29770992366412213|          3.0|              9.0|            2.0| (18,[3],[1.0])|\n",
      "|     AS|   108|        ANC|      SEA|        3|  30|   202|    0| 0.3083969465648855|         15.0|             72.0|           19.0|(18,[15],[1.0])|\n",
      "|     CO|  1094|        LAX|      IAH|        3|  30|   181|    1|0.27633587786259545|          9.0|              4.0|            5.0| (18,[9],[1.0])|\n",
      "|     DL|  1768|        LAX|      MSP|        3|  30|   220|    0|0.33587786259541985|          1.0|              4.0|           13.0| (18,[1],[1.0])|\n",
      "|     DL|  2722|        PHX|      DTW|        3|  30|   228|    0| 0.3480916030534351|          1.0|              6.0|            7.0| (18,[1],[1.0])|\n",
      "|     DL|  2606|        SFO|      MSP|        3|  35|   216|    1| 0.3297709923664122|          1.0|              9.0|           13.0| (18,[1],[1.0])|\n",
      "|     AA|  2538|        LAS|      ORD|        3|  40|   200|    1| 0.3053435114503817|          3.0|              8.0|            1.0| (18,[3],[1.0])|\n",
      "+-------+------+-----------+---------+---------+----+------+-----+-------------------+-------------+-----------------+---------------+---------------+\n",
      "only showing top 10 rows\n",
      "\n"
     ]
    }
   ],
   "source": [
    "from pyspark.ml.feature import OneHotEncoder\n",
    "\n",
    "# Aplicar OneHotEncoder a la variable indexada\n",
    "encoder = OneHotEncoder(inputCols = [\"Airline_index\"], outputCols = [\"Airline_onehot\"], dropLast=False)\n",
    "df_encoded = encoder.fit(df_indexed).transform(df_indexed)\n",
    "\n",
    "df_encoded.show(10)"
   ]
  },
  {
   "cell_type": "code",
   "execution_count": 24,
   "metadata": {},
   "outputs": [
    {
     "name": "stdout",
     "output_type": "stream",
     "text": [
      "+-------+------+-----------+---------+---------+----+------+-----+-------------------+-------------+-----------------+---------------+---------------+--------------------+\n",
      "|Airline|Flight|AirportFrom|AirportTo|DayOfWeek|Time|Length|Delay|      Length Scaled|Airline_index|AirportFrom_index|AirportTo_index| Airline_onehot|            features|\n",
      "+-------+------+-----------+---------+---------+----+------+-----+-------------------+-------------+-----------------+---------------+---------------+--------------------+\n",
      "|     CO|   269|        SFO|      IAH|        3|  15|   205|    1|0.31297709923664124|          9.0|              9.0|            5.0| (18,[9],[1.0])|(27,[0,1,2,3,4,5,...|\n",
      "|     US|  1558|        PHX|      CLT|        3|  15|   222|    1|0.33893129770992364|          5.0|              6.0|           10.0| (18,[5],[1.0])|(27,[0,1,2,3,4,5,...|\n",
      "|     AA|  2400|        LAX|      DFW|        3|  20|   165|    1|0.25190839694656486|          3.0|              4.0|            2.0| (18,[3],[1.0])|(27,[0,1,2,3,4,5,...|\n",
      "|     AA|  2466|        SFO|      DFW|        3|  20|   195|    1|0.29770992366412213|          3.0|              9.0|            2.0| (18,[3],[1.0])|(27,[0,1,2,3,4,5,...|\n",
      "|     AS|   108|        ANC|      SEA|        3|  30|   202|    0| 0.3083969465648855|         15.0|             72.0|           19.0|(18,[15],[1.0])|(27,[0,1,2,3,5,6,...|\n",
      "|     CO|  1094|        LAX|      IAH|        3|  30|   181|    1|0.27633587786259545|          9.0|              4.0|            5.0| (18,[9],[1.0])|(27,[0,1,2,3,4,5,...|\n",
      "|     DL|  1768|        LAX|      MSP|        3|  30|   220|    0|0.33587786259541985|          1.0|              4.0|           13.0| (18,[1],[1.0])|(27,[0,1,2,3,5,6,...|\n",
      "|     DL|  2722|        PHX|      DTW|        3|  30|   228|    0| 0.3480916030534351|          1.0|              6.0|            7.0| (18,[1],[1.0])|(27,[0,1,2,3,5,6,...|\n",
      "|     DL|  2606|        SFO|      MSP|        3|  35|   216|    1| 0.3297709923664122|          1.0|              9.0|           13.0| (18,[1],[1.0])|(27,[0,1,2,3,4,5,...|\n",
      "|     AA|  2538|        LAS|      ORD|        3|  40|   200|    1| 0.3053435114503817|          3.0|              8.0|            1.0| (18,[3],[1.0])|(27,[0,1,2,3,4,5,...|\n",
      "+-------+------+-----------+---------+---------+----+------+-----+-------------------+-------------+-----------------+---------------+---------------+--------------------+\n",
      "only showing top 10 rows\n",
      "\n"
     ]
    }
   ],
   "source": [
    "from pyspark.ml.feature import VectorAssembler\n",
    "\n",
    "columns_to_normalize = ['Flight', 'DayOfWeek','Time','Length','Delay',\n",
    "                        'Length Scaled','Airline_index','AirportFrom_index','AirportTo_index',\n",
    "                        'Airline_onehot']\n",
    "\n",
    "assembler = VectorAssembler(inputCols = columns_to_normalize, outputCol = \"features\")\n",
    "\n",
    "df_vector = assembler.transform(df_encoded)\n",
    "\n",
    "df_vector.show(10)"
   ]
  }
 ],
 "metadata": {
  "kernelspec": {
   "display_name": "pyspark",
   "language": "python",
   "name": "python3"
  },
  "language_info": {
   "codemirror_mode": {
    "name": "ipython",
    "version": 3
   },
   "file_extension": ".py",
   "mimetype": "text/x-python",
   "name": "python",
   "nbconvert_exporter": "python",
   "pygments_lexer": "ipython3",
   "version": "3.10.14"
  }
 },
 "nbformat": 4,
 "nbformat_minor": 2
}
